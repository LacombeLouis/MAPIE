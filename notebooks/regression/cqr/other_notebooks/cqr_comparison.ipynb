{
  "cells": [
    {
      "cell_type": "code",
      "execution_count": 111,
      "metadata": {
        "collapsed": false
      },
      "outputs": [],
      "source": [
        "%matplotlib inline"
      ]
    },
    {
      "cell_type": "markdown",
      "metadata": {},
      "source": [
        "# CQR Comparison\n"
      ]
    },
    {
      "cell_type": "code",
      "execution_count": 112,
      "metadata": {
        "collapsed": false
      },
      "outputs": [],
      "source": [
        "import warnings\n",
        "\n",
        "from lightgbm import LGBMRegressor\n",
        "import matplotlib.pyplot as plt\n",
        "from matplotlib.offsetbox import TextArea, AnnotationBbox\n",
        "from matplotlib.ticker import FormatStrFormatter\n",
        "import numpy as np\n",
        "import pandas as pd\n",
        "from sklearn.model_selection import RandomizedSearchCV, train_test_split, KFold\n",
        "from sklearn.datasets import (\n",
        "    fetch_california_housing, load_diabetes, make_regression,\n",
        "    make_sparse_uncorrelated, make_friedman1, make_friedman2, make_friedman3\n",
        ")\n",
        "from sklearn.preprocessing import OneHotEncoder\n",
        "from scipy.stats import randint, uniform\n",
        "\n",
        "from mapie.metrics import (\n",
        "    regression_coverage_score,\n",
        "    regression_mean_width_score\n",
        "    )\n",
        "from mapie.regression import MapieRegressor\n",
        "from mapie.subsample import Subsample\n",
        "from mapie.quantile_regression import MapieQuantileRegressor\n",
        "\n",
        "\n",
        "random_state = 23\n",
        "rng = np.random.default_rng(random_state)\n",
        "round_to = 3\n",
        "\n",
        "warnings.filterwarnings(\"ignore\")"
      ]
    },
    {
      "cell_type": "markdown",
      "metadata": {},
      "source": [
        "## 1. Datasets\n"
      ]
    },
    {
      "cell_type": "code",
      "execution_count": 161,
      "metadata": {
        "collapsed": false
      },
      "outputs": [],
      "source": [
        "def get_data(name, n_samples=1000, n_features=10):\n",
        "    if name == \"california\":\n",
        "        data = fetch_california_housing(as_frame=True)\n",
        "        X = pd.DataFrame(data=data.data, columns=data.feature_names)\n",
        "        y = pd.DataFrame(data=data.target)\n",
        "    elif name == \"diabetes\":\n",
        "        data = load_diabetes(as_frame=True)\n",
        "        X = pd.DataFrame(data=data.data, columns=data.feature_names)\n",
        "        y = pd.DataFrame(data=data.target)['target']\n",
        "    elif name == \"make_regression\":\n",
        "        data = make_regression(n_samples, n_features)\n",
        "        X = pd.DataFrame(data[0])\n",
        "        y = pd.DataFrame(data[1].reshape(-1, 1))\n",
        "    elif name == \"sparse_uncorrelated\":\n",
        "        data = make_sparse_uncorrelated(n_samples, n_features)\n",
        "        X = pd.DataFrame(data[0])\n",
        "        y = pd.DataFrame(data[1].reshape(-1, 1))\n",
        "    elif name == \"friedman1\":\n",
        "        data = make_friedman1(n_samples, n_features)\n",
        "        X = pd.DataFrame(data[0])\n",
        "        y = pd.DataFrame(data[1].reshape(-1, 1))\n",
        "    elif name == \"friedman2\":\n",
        "        data = make_friedman2(n_samples)\n",
        "        X = pd.DataFrame(data[0])\n",
        "        y = pd.DataFrame(data[1].reshape(-1, 1))\n",
        "    elif name == \"friedman3\":\n",
        "        data = make_friedman3(n_samples)\n",
        "        X = pd.DataFrame(data[0])\n",
        "        y = pd.DataFrame(data[1].reshape(-1, 1))\n",
        "    elif name == \"heteroscedastic\":\n",
        "        X = np.linspace(0, 5, n_samples)\n",
        "        y = pd.DataFrame((((3*X)+5) + (np.random.normal(0, 1, len(X)) * X)).reshape(-1, 1))\n",
        "        X = pd.DataFrame(X)\n",
        "        # X = X.reshape(-1, 1)\n",
        "    elif name == \"homoscedastic\":\n",
        "        X = np.linspace(0, 5, n_samples)\n",
        "        y = pd.DataFrame((((3*X)+5) + (np.random.normal(0, 1, len(X)))).reshape(-1, 1))\n",
        "        X = pd.DataFrame(X)\n",
        "        # X = X.reshape(-1, 1)\n",
        "    return X, y"
      ]
    },
    {
      "cell_type": "code",
      "execution_count": 178,
      "metadata": {},
      "outputs": [],
      "source": [
        "name = \"california\"\n",
        "X, y = get_data(name)"
      ]
    },
    {
      "cell_type": "code",
      "execution_count": 181,
      "metadata": {},
      "outputs": [],
      "source": [
        "# plt.scatter(X, y)\n",
        "# plt.title(name)\n",
        "# plt.xlabel(\"X\")\n",
        "# plt.ylabel(\"y\")\n",
        "# plt.savefig(\"images/\"+name+\".png\")"
      ]
    },
    {
      "cell_type": "markdown",
      "metadata": {},
      "source": [
        "Let's visualize the dataset by showing the correlations between the\n",
        "independent variables.\n",
        "\n"
      ]
    },
    {
      "cell_type": "code",
      "execution_count": 182,
      "metadata": {
        "collapsed": false
      },
      "outputs": [
        {
          "data": {
            "text/html": [
              "<div>\n",
              "<style scoped>\n",
              "    .dataframe tbody tr th:only-of-type {\n",
              "        vertical-align: middle;\n",
              "    }\n",
              "\n",
              "    .dataframe tbody tr th {\n",
              "        vertical-align: top;\n",
              "    }\n",
              "\n",
              "    .dataframe thead th {\n",
              "        text-align: right;\n",
              "    }\n",
              "</style>\n",
              "<table border=\"1\" class=\"dataframe\">\n",
              "  <thead>\n",
              "    <tr style=\"text-align: right;\">\n",
              "      <th></th>\n",
              "      <th>MedInc</th>\n",
              "      <th>HouseAge</th>\n",
              "      <th>AveRooms</th>\n",
              "      <th>AveBedrms</th>\n",
              "      <th>Population</th>\n",
              "      <th>AveOccup</th>\n",
              "      <th>Latitude</th>\n",
              "      <th>Longitude</th>\n",
              "      <th>MedHouseVal</th>\n",
              "    </tr>\n",
              "  </thead>\n",
              "  <tbody>\n",
              "    <tr>\n",
              "      <th>count</th>\n",
              "      <td>20640.000000</td>\n",
              "      <td>20640.000000</td>\n",
              "      <td>20640.000000</td>\n",
              "      <td>20640.000000</td>\n",
              "      <td>20640.000000</td>\n",
              "      <td>20640.000000</td>\n",
              "      <td>20640.000000</td>\n",
              "      <td>20640.000000</td>\n",
              "      <td>20640.000000</td>\n",
              "    </tr>\n",
              "    <tr>\n",
              "      <th>mean</th>\n",
              "      <td>3.870671</td>\n",
              "      <td>28.639486</td>\n",
              "      <td>5.429000</td>\n",
              "      <td>1.096675</td>\n",
              "      <td>1425.476744</td>\n",
              "      <td>3.070655</td>\n",
              "      <td>35.631861</td>\n",
              "      <td>-119.569704</td>\n",
              "      <td>2.068558</td>\n",
              "    </tr>\n",
              "    <tr>\n",
              "      <th>std</th>\n",
              "      <td>1.899822</td>\n",
              "      <td>12.585558</td>\n",
              "      <td>2.474173</td>\n",
              "      <td>0.473911</td>\n",
              "      <td>1132.462122</td>\n",
              "      <td>10.386050</td>\n",
              "      <td>2.135952</td>\n",
              "      <td>2.003532</td>\n",
              "      <td>1.153956</td>\n",
              "    </tr>\n",
              "    <tr>\n",
              "      <th>min</th>\n",
              "      <td>0.499900</td>\n",
              "      <td>1.000000</td>\n",
              "      <td>0.846154</td>\n",
              "      <td>0.333333</td>\n",
              "      <td>3.000000</td>\n",
              "      <td>0.692308</td>\n",
              "      <td>32.540000</td>\n",
              "      <td>-124.350000</td>\n",
              "      <td>0.149990</td>\n",
              "    </tr>\n",
              "    <tr>\n",
              "      <th>25%</th>\n",
              "      <td>2.563400</td>\n",
              "      <td>18.000000</td>\n",
              "      <td>4.440716</td>\n",
              "      <td>1.006079</td>\n",
              "      <td>787.000000</td>\n",
              "      <td>2.429741</td>\n",
              "      <td>33.930000</td>\n",
              "      <td>-121.800000</td>\n",
              "      <td>1.196000</td>\n",
              "    </tr>\n",
              "    <tr>\n",
              "      <th>50%</th>\n",
              "      <td>3.534800</td>\n",
              "      <td>29.000000</td>\n",
              "      <td>5.229129</td>\n",
              "      <td>1.048780</td>\n",
              "      <td>1166.000000</td>\n",
              "      <td>2.818116</td>\n",
              "      <td>34.260000</td>\n",
              "      <td>-118.490000</td>\n",
              "      <td>1.797000</td>\n",
              "    </tr>\n",
              "    <tr>\n",
              "      <th>75%</th>\n",
              "      <td>4.743250</td>\n",
              "      <td>37.000000</td>\n",
              "      <td>6.052381</td>\n",
              "      <td>1.099526</td>\n",
              "      <td>1725.000000</td>\n",
              "      <td>3.282261</td>\n",
              "      <td>37.710000</td>\n",
              "      <td>-118.010000</td>\n",
              "      <td>2.647250</td>\n",
              "    </tr>\n",
              "    <tr>\n",
              "      <th>max</th>\n",
              "      <td>15.000100</td>\n",
              "      <td>52.000000</td>\n",
              "      <td>141.909091</td>\n",
              "      <td>34.066667</td>\n",
              "      <td>35682.000000</td>\n",
              "      <td>1243.333333</td>\n",
              "      <td>41.950000</td>\n",
              "      <td>-114.310000</td>\n",
              "      <td>5.000010</td>\n",
              "    </tr>\n",
              "  </tbody>\n",
              "</table>\n",
              "</div>"
            ],
            "text/plain": [
              "             MedInc      HouseAge      AveRooms     AveBedrms    Population  \\\n",
              "count  20640.000000  20640.000000  20640.000000  20640.000000  20640.000000   \n",
              "mean       3.870671     28.639486      5.429000      1.096675   1425.476744   \n",
              "std        1.899822     12.585558      2.474173      0.473911   1132.462122   \n",
              "min        0.499900      1.000000      0.846154      0.333333      3.000000   \n",
              "25%        2.563400     18.000000      4.440716      1.006079    787.000000   \n",
              "50%        3.534800     29.000000      5.229129      1.048780   1166.000000   \n",
              "75%        4.743250     37.000000      6.052381      1.099526   1725.000000   \n",
              "max       15.000100     52.000000    141.909091     34.066667  35682.000000   \n",
              "\n",
              "           AveOccup      Latitude     Longitude   MedHouseVal  \n",
              "count  20640.000000  20640.000000  20640.000000  20640.000000  \n",
              "mean       3.070655     35.631861   -119.569704      2.068558  \n",
              "std       10.386050      2.135952      2.003532      1.153956  \n",
              "min        0.692308     32.540000   -124.350000      0.149990  \n",
              "25%        2.429741     33.930000   -121.800000      1.196000  \n",
              "50%        2.818116     34.260000   -118.490000      1.797000  \n",
              "75%        3.282261     37.710000   -118.010000      2.647250  \n",
              "max     1243.333333     41.950000   -114.310000      5.000010  "
            ]
          },
          "execution_count": 182,
          "metadata": {},
          "output_type": "execute_result"
        }
      ],
      "source": [
        "df = pd.concat([pd.DataFrame(X), pd.DataFrame(y)], axis=1)\n",
        "df.describe()"
      ]
    },
    {
      "cell_type": "markdown",
      "metadata": {},
      "source": [
        "Now let's visualize a histogram of the price of the houses.\n",
        "\n"
      ]
    },
    {
      "cell_type": "code",
      "execution_count": 183,
      "metadata": {
        "collapsed": false
      },
      "outputs": [
        {
          "data": {
            "image/png": "[encoded data removed]",
            "text/plain": [
              "<Figure size 500x500 with 1 Axes>"
            ]
          },
          "metadata": {},
          "output_type": "display_data"
        }
      ],
      "source": [
        "fig, axs = plt.subplots(1, 1, figsize=(5, 5))\n",
        "axs.hist(y, bins=50)\n",
        "axs.set_xlabel(\"Median price of houses\")\n",
        "axs.set_title(\"Histogram of house prices\")\n",
        "axs.xaxis.set_major_formatter(FormatStrFormatter('%.0f' + \"k\"))\n",
        "plt.show()"
      ]
    },
    {
      "cell_type": "markdown",
      "metadata": {},
      "source": [
        "Let's now create the different splits for the dataset, with a training,\n",
        "calibration and test set. Recall that the calibration set is used for\n",
        "calibrating the prediction intervals.\n",
        "\n"
      ]
    },
    {
      "cell_type": "code",
      "execution_count": 184,
      "metadata": {},
      "outputs": [
        {
          "data": {
            "text/plain": [
              "(20640, 1)"
            ]
          },
          "execution_count": 184,
          "metadata": {},
          "output_type": "execute_result"
        }
      ],
      "source": [
        "y.shape"
      ]
    },
    {
      "cell_type": "code",
      "execution_count": 185,
      "metadata": {
        "collapsed": false
      },
      "outputs": [],
      "source": [
        "X_train, X_test, y_train, y_test = train_test_split(\n",
        "    X,\n",
        "    y,\n",
        "    random_state=random_state\n",
        ")\n",
        "X_train, X_calib, y_train, y_calib = train_test_split(\n",
        "    X_train,\n",
        "    y_train,\n",
        "    random_state=random_state\n",
        ")"
      ]
    },
    {
      "cell_type": "markdown",
      "metadata": {},
      "source": [
        "## 2. Optimizing estimator\n",
        "Before estimating uncertainties, let's start by optimizing the base model\n",
        "in order to reduce our prediction error. We will use the\n",
        ":class:`~lightgbm.LGBMRegressor` in the quantile setting. The optimization\n",
        "is performed using :class:`~sklearn.model_selection.RandomizedSearchCV`\n",
        "to find the optimal model to predict the house prices.\n",
        "\n"
      ]
    },
    {
      "cell_type": "code",
      "execution_count": 186,
      "metadata": {
        "collapsed": false
      },
      "outputs": [],
      "source": [
        "estimator = LGBMRegressor(\n",
        "    objective='quantile',\n",
        "    alpha=0.5,\n",
        "    random_state=random_state\n",
        ")\n",
        "params_distributions = dict(\n",
        "    num_leaves=randint(low=10, high=50),\n",
        "    max_depth=randint(low=3, high=20),\n",
        "    n_estimators=randint(low=50, high=300),\n",
        "    learning_rate=uniform()\n",
        ")\n",
        "optim_model = RandomizedSearchCV(\n",
        "    estimator,\n",
        "    param_distributions=params_distributions,\n",
        "    n_jobs=-1,\n",
        "    n_iter=100,\n",
        "    cv=KFold(n_splits=5, shuffle=True),\n",
        "    verbose=-1\n",
        ")\n",
        "optim_model.fit(X_train, y_train)\n",
        "estimator = optim_model.best_estimator_"
      ]
    },
    {
      "cell_type": "markdown",
      "metadata": {},
      "source": [
        "## 3. Comparison of MAPIE methods\n",
        "We will now proceed to compare the different methods available in MAPIE used\n",
        "for uncertainty quantification on regression settings. For this tutorial we\n",
        "will compare the \"naive\", \"Jackknife plus after Bootstrap\", \"cv plus\" and\n",
        "\"conformalized quantile regression\". Please have a look at the theoretical\n",
        "description of the documentation for more details on these methods.\n",
        "\n",
        "We also create two functions, one to sort the dataset in increasing values\n",
        "of ``y_test`` and a plotting function, so that we can plot all predictions\n",
        "and prediction intervals for different conformal methods.\n",
        "\n"
      ]
    },
    {
      "cell_type": "code",
      "execution_count": 187,
      "metadata": {
        "collapsed": false
      },
      "outputs": [],
      "source": [
        "def sort_y_values(y_test, y_pred, y_pis):\n",
        "    \"\"\"\n",
        "    Sorting the dataset in order to make plots using the fill_between function.\n",
        "    \"\"\"\n",
        "    indices = np.argsort(y_test)\n",
        "    y_test_sorted = np.array(y_test)[indices]\n",
        "    y_pred_sorted = y_pred[indices]\n",
        "    y_lower_bound = y_pis[:, 0, 0][indices]\n",
        "    y_upper_bound = y_pis[:, 1, 0][indices]\n",
        "    return y_test_sorted, y_pred_sorted, y_lower_bound, y_upper_bound\n",
        "\n",
        "\n",
        "def plot_prediction_intervals(\n",
        "    title,\n",
        "    axs,\n",
        "    y_test_sorted,\n",
        "    y_pred_sorted,\n",
        "    lower_bound,\n",
        "    upper_bound,\n",
        "    coverage,\n",
        "    width,\n",
        "    num_plots_idx\n",
        "):\n",
        "    \"\"\"\n",
        "    Plot of the prediction intervals for each different conformal\n",
        "    method.\n",
        "    \"\"\"\n",
        "    axs.yaxis.set_major_formatter(FormatStrFormatter('%.0f' + \"k\"))\n",
        "    axs.xaxis.set_major_formatter(FormatStrFormatter('%.0f' + \"k\"))\n",
        "\n",
        "    lower_bound_ = np.take(lower_bound, num_plots_idx)\n",
        "    y_pred_sorted_ = np.take(y_pred_sorted, num_plots_idx)\n",
        "    y_test_sorted_ = np.take(y_test_sorted, num_plots_idx)\n",
        "\n",
        "    error = y_pred_sorted_-lower_bound_\n",
        "\n",
        "    warning1 = y_test_sorted_ > y_pred_sorted_+error\n",
        "    warning2 = y_test_sorted_ < y_pred_sorted_-error\n",
        "    warnings = warning1 + warning2\n",
        "    axs.errorbar(\n",
        "        y_test_sorted_[~warnings],\n",
        "        y_pred_sorted_[~warnings],\n",
        "        yerr=error[~warnings],\n",
        "        capsize=5, marker=\"o\", elinewidth=2, linewidth=0,\n",
        "        label=\"Inside prediction interval\"\n",
        "        )\n",
        "    axs.errorbar(\n",
        "        y_test_sorted_[warnings],\n",
        "        y_pred_sorted_[warnings],\n",
        "        yerr=error[warnings],\n",
        "        capsize=5, marker=\"o\", elinewidth=2, linewidth=0, color=\"red\",\n",
        "        label=\"Outside prediction interval\"\n",
        "        )\n",
        "    axs.scatter(\n",
        "        y_test_sorted_[warnings],\n",
        "        y_test_sorted_[warnings],\n",
        "        marker=\"*\", color=\"green\",\n",
        "        label=\"True value\"\n",
        "    )\n",
        "    axs.set_xlabel(\"True house prices in $\")\n",
        "    axs.set_ylabel(\"Prediction of house prices in $\")\n",
        "    ab = AnnotationBbox(\n",
        "        TextArea(\n",
        "            f\"Coverage: {np.round(coverage, round_to)}\\n\"\n",
        "            + f\"Interval width: {np.round(width, round_to)}\"\n",
        "        ),\n",
        "        xy=(np.min(y_test_sorted_)*3, np.max(y_pred_sorted_+error)*0.95),\n",
        "        )\n",
        "    lims = [\n",
        "        np.min([axs.get_xlim(), axs.get_ylim()]),  # min of both axes\n",
        "        np.max([axs.get_xlim(), axs.get_ylim()]),  # max of both axes\n",
        "    ]\n",
        "    axs.plot(lims, lims, '--', alpha=0.75, color=\"black\", label=\"x=y\")\n",
        "    axs.add_artist(ab)\n",
        "    axs.set_title(title, fontweight='bold')"
      ]
    },
    {
      "cell_type": "markdown",
      "metadata": {},
      "source": [
        "We proceed to using MAPIE to return the predictions and prediction intervals.\n",
        "We will use an $\\alpha=0.2$, this means a target coverage of 0.8\n",
        "(recall that this parameter needs to be initialized directly when setting\n",
        ":class:`~mapie.quantile_regression.MapieQuantileRegressor` and when using\n",
        ":class:`~mapie.regression.MapieRegressor`, it needs to be set in the\n",
        "``predict``).\n",
        "Note that for the CQR, there are two options for ``cv``:\n",
        "\n",
        "* ``cv=\"split\"`` (by default), the split-conformal where MAPIE trains the\n",
        "  model on a training set and then calibrates on the calibration set.\n",
        "* ``cv=\"prefit\"`` meaning that you can train your models with the correct\n",
        "  quantile values (must be given in the following order:\n",
        "  $(\\alpha, 1-(\\alpha/2), 0.5)$ and given to MAPIE as an iterable\n",
        "  object. (Check the examples for how to use prefit in MAPIE)\n",
        "\n",
        "Additionally, note that there is a list of accepted models by\n",
        ":class:`~mapie.quantile_regression.MapieQuantileRegressor`\n",
        "(``quantile_estimator_params``) and that we will use symmetrical residuals.\n",
        "\n"
      ]
    },
    {
      "cell_type": "code",
      "execution_count": 188,
      "metadata": {
        "collapsed": false
      },
      "outputs": [],
      "source": [
        "STRATEGIES = {\n",
        "    \"naive\": {\"method\": \"naive\"},\n",
        "    \"cv_plus\": {\"method\": \"plus\", \"cv\": 10},\n",
        "    \"jackknife_plus_ab\": {\"method\": \"plus\", \"cv\": Subsample(n_resamplings=50)},\n",
        "    \"cqr\": {\"method\": \"quantile\", \"cv\": \"split\", \"alpha\": 0.2},\n",
        "}\n",
        "y_pred, y_pis = {}, {}\n",
        "y_test_sorted, y_pred_sorted, lower_bound, upper_bound = {}, {}, {}, {}\n",
        "coverage, width = {}, {}\n",
        "for strategy, params in STRATEGIES.items():\n",
        "    if strategy == \"cqr\":\n",
        "        mapie = MapieQuantileRegressor(estimator, **params)\n",
        "        mapie.fit(X_train, y_train, X_calib=X_calib, y_calib=y_calib)\n",
        "        y_pred[strategy], y_pis[strategy] = mapie.predict(X_test)\n",
        "    else:\n",
        "        mapie = MapieRegressor(estimator, **params)\n",
        "        mapie.fit(X_train, y_train)\n",
        "        y_pred[strategy], y_pis[strategy] = mapie.predict(X_test, alpha=0.2)\n",
        "    (\n",
        "        y_test_sorted[strategy],\n",
        "        y_pred_sorted[strategy],\n",
        "        lower_bound[strategy],\n",
        "        upper_bound[strategy]\n",
        "    ) = sort_y_values(y_test, y_pred[strategy], y_pis[strategy])\n",
        "    coverage[strategy] = regression_coverage_score(\n",
        "        y_test,\n",
        "        y_pis[strategy][:, 0, 0],\n",
        "        y_pis[strategy][:, 1, 0]\n",
        "        )\n",
        "    width[strategy] = regression_mean_width_score(\n",
        "        y_pis[strategy][:, 0, 0],\n",
        "        y_pis[strategy][:, 1, 0]\n",
        "        )"
      ]
    },
    {
      "cell_type": "markdown",
      "metadata": {},
      "source": [
        "We will now proceed to the plotting stage, note that we only plot 2% of the\n",
        "observations in order to not crowd the plot too much.\n",
        "\n"
      ]
    },
    {
      "cell_type": "code",
      "execution_count": 189,
      "metadata": {
        "collapsed": false
      },
      "outputs": [
        {
          "data": {
            "image/png": "[encoded data removed]",
            "text/plain": [
              "<Figure size 700x400 with 4 Axes>"
            ]
          },
          "metadata": {},
          "output_type": "display_data"
        }
      ],
      "source": [
        "perc_obs_plot = 0.02\n",
        "num_plots = rng.choice(\n",
        "    len(y_test), int(perc_obs_plot*len(y_test)), replace=False\n",
        "    )\n",
        "fig, axs = plt.subplots(2, 2, figsize=(7, 4))\n",
        "coords = [axs[0, 0], axs[0, 1], axs[1, 0], axs[1, 1]]\n",
        "for strategy, coord in zip(STRATEGIES.keys(), coords):\n",
        "    plot_prediction_intervals(\n",
        "        strategy,\n",
        "        coord,\n",
        "        y_test_sorted[strategy],\n",
        "        y_pred_sorted[strategy],\n",
        "        lower_bound[strategy],\n",
        "        upper_bound[strategy],\n",
        "        coverage[strategy],\n",
        "        width[strategy],\n",
        "        num_plots\n",
        "        )\n",
        "lines_labels = [ax.get_legend_handles_labels() for ax in fig.axes]\n",
        "lines, labels = [sum(_, []) for _ in zip(*lines_labels)]\n",
        "plt.legend(\n",
        "    lines[:4], labels[:4],\n",
        "    loc='upper center',\n",
        "    bbox_to_anchor=(0, -0.15),\n",
        "    fancybox=True,\n",
        "    shadow=True,\n",
        "    ncol=2\n",
        ")\n",
        "plt.show()"
      ]
    },
    {
      "cell_type": "markdown",
      "metadata": {},
      "source": [
        "We notice more adaptability of the prediction intervals for the\n",
        "conformalized quantile regression while the other methods have fixed\n",
        "interval width. Indeed, as the prices get larger, the prediction intervals\n",
        "are increased with the increase in price.\n",
        "\n"
      ]
    },
    {
      "cell_type": "code",
      "execution_count": 60,
      "metadata": {
        "collapsed": false
      },
      "outputs": [
        {
          "ename": "ValueError",
          "evalue": "Input array must be 1 dimensional",
          "output_type": "error",
          "traceback": [
            "\u001b[0;31m---------------------------------------------------------------------------\u001b[0m",
            "\u001b[0;31mValueError\u001b[0m                                Traceback (most recent call last)",
            "Cell \u001b[0;32mIn [60], line 48\u001b[0m\n\u001b[1;32m     44\u001b[0m     \u001b[39mreturn\u001b[39;00m recap_df\n\u001b[1;32m     47\u001b[0m bins \u001b[39m=\u001b[39m \u001b[39mlist\u001b[39m(np\u001b[39m.\u001b[39marange(\u001b[39m0\u001b[39m, \u001b[39m1\u001b[39m, \u001b[39m0.1\u001b[39m))\n\u001b[0;32m---> 48\u001b[0m binned_data \u001b[39m=\u001b[39m get_coverages_widths_by_bins(\n\u001b[1;32m     49\u001b[0m     \u001b[39m\"\u001b[39;49m\u001b[39mcoverage\u001b[39;49m\u001b[39m\"\u001b[39;49m,\n\u001b[1;32m     50\u001b[0m     y_test_sorted,\n\u001b[1;32m     51\u001b[0m     y_pred_sorted,\n\u001b[1;32m     52\u001b[0m     lower_bound,\n\u001b[1;32m     53\u001b[0m     upper_bound,\n\u001b[1;32m     54\u001b[0m     STRATEGIES,\n\u001b[1;32m     55\u001b[0m     bins\n\u001b[1;32m     56\u001b[0m )\n",
            "Cell \u001b[0;32mIn [60], line 16\u001b[0m, in \u001b[0;36mget_coverages_widths_by_bins\u001b[0;34m(want, y_test, y_pred, lower_bound, upper_bound, STRATEGIES, bins)\u001b[0m\n\u001b[1;32m     10\u001b[0m \u001b[39m\"\"\"\u001b[39;00m\n\u001b[1;32m     11\u001b[0m \u001b[39mGiven the results from MAPIE, this function split the data\u001b[39;00m\n\u001b[1;32m     12\u001b[0m \u001b[39maccording the the test values into bins and calculates coverage\u001b[39;00m\n\u001b[1;32m     13\u001b[0m \u001b[39mor width per bin.\u001b[39;00m\n\u001b[1;32m     14\u001b[0m \u001b[39m\"\"\"\u001b[39;00m\n\u001b[1;32m     15\u001b[0m cuts \u001b[39m=\u001b[39m []\n\u001b[0;32m---> 16\u001b[0m cuts_ \u001b[39m=\u001b[39m pd\u001b[39m.\u001b[39;49mqcut(y_test[\u001b[39m\"\u001b[39;49m\u001b[39mnaive\u001b[39;49m\u001b[39m\"\u001b[39;49m], bins)\u001b[39m.\u001b[39munique()[:\u001b[39m-\u001b[39m\u001b[39m1\u001b[39m]\n\u001b[1;32m     17\u001b[0m \u001b[39mfor\u001b[39;00m item \u001b[39min\u001b[39;00m cuts_:\n\u001b[1;32m     18\u001b[0m     cuts\u001b[39m.\u001b[39mappend(item\u001b[39m.\u001b[39mleft)\n",
            "File \u001b[0;32m~/opt/anaconda3/envs/mapie_env/lib/python3.10/site-packages/pandas/core/reshape/tile.py:369\u001b[0m, in \u001b[0;36mqcut\u001b[0;34m(x, q, labels, retbins, precision, duplicates)\u001b[0m\n\u001b[1;32m    315\u001b[0m \u001b[39m\"\"\"\u001b[39;00m\n\u001b[1;32m    316\u001b[0m \u001b[39mQuantile-based discretization function.\u001b[39;00m\n\u001b[1;32m    317\u001b[0m \n\u001b[0;32m   (...)\u001b[0m\n\u001b[1;32m    366\u001b[0m \u001b[39marray([0, 0, 1, 2, 3])\u001b[39;00m\n\u001b[1;32m    367\u001b[0m \u001b[39m\"\"\"\u001b[39;00m\n\u001b[1;32m    368\u001b[0m original \u001b[39m=\u001b[39m x\n\u001b[0;32m--> 369\u001b[0m x \u001b[39m=\u001b[39m _preprocess_for_cut(x)\n\u001b[1;32m    370\u001b[0m x, dtype \u001b[39m=\u001b[39m _coerce_to_type(x)\n\u001b[1;32m    372\u001b[0m quantiles \u001b[39m=\u001b[39m np\u001b[39m.\u001b[39mlinspace(\u001b[39m0\u001b[39m, \u001b[39m1\u001b[39m, q \u001b[39m+\u001b[39m \u001b[39m1\u001b[39m) \u001b[39mif\u001b[39;00m is_integer(q) \u001b[39melse\u001b[39;00m q\n",
            "File \u001b[0;32m~/opt/anaconda3/envs/mapie_env/lib/python3.10/site-packages/pandas/core/reshape/tile.py:601\u001b[0m, in \u001b[0;36m_preprocess_for_cut\u001b[0;34m(x)\u001b[0m\n\u001b[1;32m    599\u001b[0m     x \u001b[39m=\u001b[39m np\u001b[39m.\u001b[39masarray(x)\n\u001b[1;32m    600\u001b[0m \u001b[39mif\u001b[39;00m x\u001b[39m.\u001b[39mndim \u001b[39m!=\u001b[39m \u001b[39m1\u001b[39m:\n\u001b[0;32m--> 601\u001b[0m     \u001b[39mraise\u001b[39;00m \u001b[39mValueError\u001b[39;00m(\u001b[39m\"\u001b[39m\u001b[39mInput array must be 1 dimensional\u001b[39m\u001b[39m\"\u001b[39m)\n\u001b[1;32m    603\u001b[0m \u001b[39mreturn\u001b[39;00m x\n",
            "\u001b[0;31mValueError\u001b[0m: Input array must be 1 dimensional"
          ]
        }
      ],
      "source": [
        "def get_coverages_widths_by_bins(\n",
        "    want,\n",
        "    y_test,\n",
        "    y_pred,\n",
        "    lower_bound,\n",
        "    upper_bound,\n",
        "    STRATEGIES,\n",
        "    bins\n",
        "):\n",
        "    \"\"\"\n",
        "    Given the results from MAPIE, this function split the data\n",
        "    according the the test values into bins and calculates coverage\n",
        "    or width per bin.\n",
        "    \"\"\"\n",
        "    cuts = []\n",
        "    cuts_ = pd.qcut(y_test[\"naive\"], bins).unique()[:-1]\n",
        "    for item in cuts_:\n",
        "        cuts.append(item.left)\n",
        "    cuts.append(cuts_[-1].right)\n",
        "    cuts.append(np.max(y_test[\"naive\"])+1)\n",
        "    recap = {}\n",
        "    for i in range(len(cuts) - 1):\n",
        "        cut1, cut2 = cuts[i], cuts[i+1]\n",
        "        name = f\"[{np.round(cut1, 0)}, {np.round(cut2, 0)}]\"\n",
        "        recap[name] = []\n",
        "        for strategy in STRATEGIES:\n",
        "            indices = np.where(\n",
        "                (y_test[strategy] > cut1) * (y_test[strategy] <= cut2)\n",
        "                )\n",
        "            y_test_trunc = np.take(y_test[strategy], indices)\n",
        "            y_low_ = np.take(lower_bound[strategy], indices)\n",
        "            y_high_ = np.take(upper_bound[strategy], indices)\n",
        "            if want == \"coverage\":\n",
        "                recap[name].append(regression_coverage_score(\n",
        "                    y_test_trunc[0],\n",
        "                    y_low_[0],\n",
        "                    y_high_[0]\n",
        "                ))\n",
        "            elif want == \"width\":\n",
        "                recap[name].append(\n",
        "                    regression_mean_width_score(y_low_[0], y_high_[0])\n",
        "                )\n",
        "    recap_df = pd.DataFrame(recap, index=STRATEGIES)\n",
        "    return recap_df\n",
        "\n",
        "\n",
        "bins = list(np.arange(0, 1, 0.1))\n",
        "binned_data = get_coverages_widths_by_bins(\n",
        "    \"coverage\",\n",
        "    y_test_sorted,\n",
        "    y_pred_sorted,\n",
        "    lower_bound,\n",
        "    upper_bound,\n",
        "    STRATEGIES,\n",
        "    bins\n",
        ")"
      ]
    },
    {
      "cell_type": "markdown",
      "metadata": {},
      "source": [
        "To confirm these insights, we will now observe what happens when we plot\n",
        "the conditional coverage and interval width on these intervals splitted by\n",
        "quantiles.\n",
        "\n"
      ]
    },
    {
      "cell_type": "code",
      "execution_count": null,
      "metadata": {
        "collapsed": false
      },
      "outputs": [],
      "source": [
        "binned_data.T.plot.bar(figsize=(12, 4))\n",
        "plt.axhline(0.80, ls=\"--\", color=\"k\")\n",
        "plt.ylabel(\"Conditional coverage\")\n",
        "plt.xlabel(\"Binned house prices\")\n",
        "plt.xticks(rotation=345)\n",
        "plt.ylim(0.3, 1.0)\n",
        "plt.legend(loc=[1, 0])\n",
        "plt.show()"
      ]
    },
    {
      "cell_type": "markdown",
      "metadata": {},
      "source": [
        "What we observe from these results is that none of the methods seems to\n",
        "have conditional coverage at the target $1 - \\alpha$. However, we can\n",
        "clearly notice that the CQR seems to better adapt to large prices. Its\n",
        "conditional coverage is closer to the target coverage not only for higher\n",
        "prices, but also for lower prices where the other methods have a higher\n",
        "coverage than needed. This will very likely have an impact on the widths\n",
        "of the intervals.\n",
        "\n"
      ]
    },
    {
      "cell_type": "code",
      "execution_count": null,
      "metadata": {
        "collapsed": false
      },
      "outputs": [],
      "source": [
        "binned_data = get_coverages_widths_by_bins(\n",
        "    \"width\",\n",
        "    y_test_sorted,\n",
        "    y_pred_sorted,\n",
        "    lower_bound,\n",
        "    upper_bound,\n",
        "    STRATEGIES,\n",
        "    bins\n",
        ")\n",
        "\n",
        "\n",
        "binned_data.T.plot.bar(figsize=(12, 4))\n",
        "plt.ylabel(\"Interval width\")\n",
        "plt.xlabel(\"Binned house prices\")\n",
        "plt.xticks(rotation=350)\n",
        "plt.legend(loc=[1, 0])\n",
        "plt.show()"
      ]
    },
    {
      "cell_type": "markdown",
      "metadata": {},
      "source": [
        "When observing the values of the the interval width we again see what was\n",
        "observed in the previous graphs with the interval widths. We can again see\n",
        "that the prediction intervals are larger as the price of the houses\n",
        "increases, interestingly, it's important to note that the prediction\n",
        "intervals are shorter when the estimator is more certain.\n",
        "\n"
      ]
    }
  ],
  "metadata": {
    "kernelspec": {
      "display_name": "Python 3.10.6 ('mapie_env')",
      "language": "python",
      "name": "python3"
    },
    "language_info": {
      "codemirror_mode": {
        "name": "ipython",
        "version": 3
      },
      "file_extension": ".py",
      "mimetype": "text/x-python",
      "name": "python",
      "nbconvert_exporter": "python",
      "pygments_lexer": "ipython3",
      "version": "3.10.6"
    },
    "vscode": {
      "interpreter": {
        "hash": "193ddd0459bf56ec2df4e0f45f021c5529ceee3254bb785350372ea00e0e07f5"
      }
    }
  },
  "nbformat": 4,
  "nbformat_minor": 0
}
